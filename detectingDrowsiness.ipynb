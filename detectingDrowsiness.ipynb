{
 "cells": [
  {
   "cell_type": "code",
   "execution_count": null,
   "id": "eb0fe398-14f7-475f-b7a1-9a65cfcb6e32",
   "metadata": {},
   "outputs": [],
   "source": [
    "!pip3 install torch torchvision torchaudio\n",
    "!git clone https://github.com/ultralytics/yolov5\n",
    "%cd yolov5\n",
    "!pip install -r requirements.txt\n",
    "import torch\n",
    "from matplotlib import pyplot as plt\n",
    "import numpy as np\n",
    "import cv2"
   ]
  },
  {
   "cell_type": "code",
   "execution_count": null,
   "id": "af5115de-d6f9-45bd-bd30-d3b93b10369a",
   "metadata": {},
   "outputs": [],
   "source": [
    "model = torch.hub.load('ultralytics/yolov5','yolov5s')  #we are basically loading the model from pytorch (simple model is used for now)\n",
    "# model = torch.hub.load('ultralytics/yolov5', 'yolov5x')\n",
    "model"
   ]
  },
  {
   "cell_type": "code",
   "execution_count": null,
   "id": "4acea6a7-c420-4dd1-917f-19e9791fdea6",
   "metadata": {},
   "outputs": [],
   "source": [
    "import torch\n",
    "import requests\n",
    "from PIL import Image\n",
    "from io import BytesIO\n"
   ]
  },
  {
   "cell_type": "code",
   "execution_count": null,
   "id": "77638fd6-f297-427b-bc8a-bec64e08ef1d",
   "metadata": {},
   "outputs": [],
   "source": [
    "# Test image from ultralytics\n",
    "img_url = 'https://ultralytics.com/images/zidane.jpg'\n",
    "\n",
    "response = requests.get(img_url)\n",
    "\n",
    "if response.status_code == 200:\n",
    "    img = Image.open(BytesIO(response.content))\n",
    "    results = model(img)\n",
    "    results.print()\n",
    "    results.show()\n",
    "else:\n",
    "    print(\"Failed to download image. Status code:\", response.status_code)\n"
   ]
  },
  {
   "cell_type": "code",
   "execution_count": null,
   "id": "b1989583-a80b-4f7d-bccd-2bf814064fb9",
   "metadata": {},
   "outputs": [],
   "source": [
    "import torch\n",
    "from matplotlib import pyplot as plt\n",
    "import numpy as np\n",
    "import cv2\n",
    "import uuid   # Unique identifier\n",
    "import os\n",
    "import time"
   ]
  },
  {
   "cell_type": "code",
   "execution_count": null,
   "id": "8aed78fe-a9a1-4995-ac20-8a47e6f65fd4",
   "metadata": {},
   "outputs": [],
   "source": [
    "IMAGES_PATH = os.path.join('data', 'images') #/data/images\n",
    "labels = ['awake', 'drowsy']\n",
    "number_imgs = 10"
   ]
  },
  {
   "cell_type": "code",
   "execution_count": null,
   "id": "df3ec4b5-9086-4de4-98ef-86468819d328",
   "metadata": {},
   "outputs": [],
   "source": [
    "labels = ['awake', 'drowsy']\n",
    "number_imgs = 5\n",
    "\n",
    "# Changed path to data3/images\n",
    "IMAGES_PATH = os.path.join(os.getcwd(), 'data3', 'images')\n",
    "\n",
    "# Ensure directory exists\n",
    "os.makedirs(IMAGES_PATH, exist_ok=True)\n",
    "\n",
    "cap = cv2.VideoCapture(0)\n",
    "\n",
    "# Collect images using webcam\n",
    "for label in labels:\n",
    "    print('Collecting images for {}'.format(label))\n",
    "    time.sleep(5)\n",
    "    \n",
    "    for img_num in range(number_imgs):\n",
    "        print('Collecting images for {}, image number {}'.format(label, img_num))\n",
    "        \n",
    "        ret, frame = cap.read()\n",
    "        \n",
    "        # Save using absolute path\n",
    "        imgname = os.path.abspath(os.path.join(IMAGES_PATH, label + '.' + str(uuid.uuid1()) + '.jpg'))\n",
    "        \n",
    "        cv2.imwrite(imgname, frame)\n",
    "        cv2.imshow('Image Collection', frame)\n",
    "        \n",
    "        print(f'Image saved at: {imgname}')  # Absolute path printed\n",
    "        \n",
    "        time.sleep(3)\n",
    "        \n",
    "        if cv2.waitKey(10) & 0xFF == ord('q'):\n",
    "            break\n",
    "\n",
    "cap.release()\n",
    "cv2.destroyAllWindows()\n",
    "\n",
    "# Print out all generated image paths again\n",
    "for label in labels:\n",
    "    print('Collected image paths for {}'.format(label))\n",
    "    for img_num in range(number_imgs):\n",
    "        imgname = os.path.abspath(os.path.join(IMAGES_PATH, label + '.' + str(uuid.uuid1()) + '.jpg'))\n",
    "        print(imgname)"
   ]
  },
  {
   "cell_type": "code",
   "execution_count": null,
   "id": "55c24983-ecd1-4276-b836-c0a55e0ee06f",
   "metadata": {},
   "outputs": [],
   "source": [
    "!git clone https://github.com/tzutalin/labelImg"
   ]
  },
  {
   "cell_type": "code",
   "execution_count": null,
   "id": "3bff0057-6364-4ba9-9754-0e277448e388",
   "metadata": {},
   "outputs": [],
   "source": [
    "!pip install pyqt5 lxml --upgrade\n",
    "!cd labelImg && pyrcc5 -o libs/resources.py resources.qrc"
   ]
  },
  {
   "cell_type": "code",
   "execution_count": null,
   "id": "b285a67b-3d7f-4ef6-b17e-998ef87c468d",
   "metadata": {},
   "outputs": [],
   "source": [
    "%cd /Users/sobithav/yolov5"
   ]
  },
  {
   "cell_type": "code",
   "execution_count": null,
   "id": "607a4b01-18f4-470d-bd8f-151e79f87cbb",
   "metadata": {},
   "outputs": [],
   "source": [
    "!python train.py \\\n",
    "  --img 320 \\\n",
    "  --batch 16 \\\n",
    "  --epochs 500 \\\n",
    "  --data dataset.yaml \\\n",
    "  --weights yolov5s.pt \\\n",
    "  --hyp data/hyps/hyp.scratch-med.yaml \\\n",
    "  --optimizer SGD \\\n",
    "  --name awake_drowsy_full \\\n",
    "  --nosave"
   ]
  },
  {
   "cell_type": "code",
   "execution_count": null,
   "id": "cb54f6c0-5403-4d29-9c0e-9b605ffb8f8a",
   "metadata": {},
   "outputs": [],
   "source": [
    "model = torch.hub.load('ultralytics/yolov5', 'custom', path='yolov5/runs/train/exp15/weights/last.pt', force_reload=True)\n",
    "img = os.path.join('data', 'images', 'awake.c9a24d48-e1f6-11eb-bbef-5cf3709bbcc6.jpg')\n",
    "results = model(img)\n",
    "%matplotlib inline \n",
    "plt.imshow(np.squeeze(results.render()))\n",
    "plt.show()"
   ]
  },
  {
   "cell_type": "code",
   "execution_count": null,
   "id": "147293ef-fb88-4176-be9d-3190b8f85c98",
   "metadata": {},
   "outputs": [],
   "source": [
    "!pip install playsound\n",
    "from playsound import playsound\n",
    "import threading\n",
    "\n",
    "def play_alarm():\n",
    "    playsound('alarm.mp3')  # make sure this file exists\n",
    "\n",
    "cap = cv2.VideoCapture(0)\n",
    "\n",
    "while cap.isOpened():\n",
    "    ret, frame = cap.read()\n",
    "    \n",
    "    results = model(frame)\n",
    "    \n",
    "    cv2.imshow('YOLO', np.squeeze(results.render()))\n",
    "\n",
    "    # Get detected class names\n",
    "    names = results.names\n",
    "    for *box, conf, cls in results.xyxy[0]:  # Loop through detections\n",
    "        label = names[int(cls)]\n",
    "        if label.lower() == 'drowsy':\n",
    "            # Play alarm in a thread (so it doesn’t freeze frame)\n",
    "            threading.Thread(target=play_alarm, daemon=True).start()\n",
    "\n",
    "    if cv2.waitKey(10) & 0xFF == ord('q'):\n",
    "        break\n",
    "\n",
    "cap.release()\n",
    "cv2.destroyAllWindows()\n"
   ]
  },
  {
   "cell_type": "code",
   "execution_count": null,
   "id": "6546a716-b042-435a-a055-7366a6da34ea",
   "metadata": {},
   "outputs": [],
   "source": [
    "!pip install playsound\n",
    "from playsound import playsound\n",
    "import threading\n",
    "\n",
    "def play_alarm():\n",
    "    playsound('alarm.mp3')  # make sure this file exists\n",
    "\n",
    "cap = cv2.VideoCapture(0)\n",
    "\n",
    "while cap.isOpened():\n",
    "    ret, frame = cap.read()\n",
    "    \n",
    "    results = model(frame)\n",
    "    \n",
    "    cv2.imshow('YOLO', np.squeeze(results.render()))\n",
    "\n",
    "    # Get detected class names\n",
    "    names = results.names\n",
    "    for *box, conf, cls in results.xyxy[0]:  # Loop through detections\n",
    "        label = names[int(cls)]\n",
    "        if label.lower() == 'drowsy':\n",
    "            # Play alarm in a thread (so it doesn’t freeze frame)\n",
    "            threading.Thread(target=play_alarm, daemon=True).start()\n",
    "\n",
    "    if cv2.waitKey(10) & 0xFF == ord('q'):\n",
    "        break\n",
    "\n",
    "cap.release()\n",
    "cv2.destroyAllWindows()\n"
   ]
  },
  {
   "cell_type": "code",
   "execution_count": null,
   "id": "953b79ee-167d-46bd-823d-e9edb8a37583",
   "metadata": {},
   "outputs": [],
   "source": [
    "!pip install playsound\n",
    "from playsound import playsound\n",
    "import threading\n",
    "\n",
    "def play_alarm():\n",
    "    playsound('alarm.mp3')  # make sure this file exists\n",
    "\n",
    "cap = cv2.VideoCapture(0)\n",
    "\n",
    "while cap.isOpened():\n",
    "    ret, frame = cap.read()\n",
    "    \n",
    "    results = model(frame)\n",
    "    \n",
    "    cv2.imshow('YOLO', np.squeeze(results.render()))\n",
    "\n",
    "    # Get detected class names\n",
    "    names = results.names\n",
    "    for *box, conf, cls in results.xyxy[0]:  # Loop through detections\n",
    "        label = names[int(cls)]\n",
    "        if label.lower() == 'drowsy':\n",
    "            # Play alarm in a thread (so it doesn’t freeze frame)\n",
    "            threading.Thread(target=play_alarm, daemon=True).start()\n",
    "\n",
    "    if cv2.waitKey(10) & 0xFF == ord('q'):\n",
    "        break\n",
    "\n",
    "cap.release()\n",
    "cv2.destroyAllWindows()\n"
   ]
  }
 ],
 "metadata": {
  "kernelspec": {
   "display_name": "Python (myenv)",
   "language": "python",
   "name": "myenv"
  },
  "language_info": {
   "codemirror_mode": {
    "name": "ipython",
    "version": 3
   },
   "file_extension": ".py",
   "mimetype": "text/x-python",
   "name": "python",
   "nbconvert_exporter": "python",
   "pygments_lexer": "ipython3",
   "version": "3.13.2"
  }
 },
 "nbformat": 4,
 "nbformat_minor": 5
}
